{
 "cells": [
  {
   "cell_type": "code",
   "execution_count": 14,
   "metadata": {},
   "outputs": [
    {
     "name": "stdout",
     "output_type": "stream",
     "text": [
      "id                 int64\n",
      "category          object\n",
      "title             object\n",
      "body              object\n",
      "amenities         object\n",
      "bathrooms        float64\n",
      "bedrooms         float64\n",
      "currency          object\n",
      "fee               object\n",
      "has_photo         object\n",
      "pets_allowed      object\n",
      "price            float64\n",
      "price_display     object\n",
      "price_type        object\n",
      "square_feet        int64\n",
      "address           object\n",
      "cityname          object\n",
      "state             object\n",
      "latitude         float64\n",
      "longitude        float64\n",
      "source            object\n",
      "time               int64\n",
      "dtype: object\n"
     ]
    }
   ],
   "source": [
    "import pandas as pd\n",
    "import numpy as np\n",
    "import matplotlib.pyplot as plt\n",
    "import plotly\n",
    "import altair as alt\n",
    "from sklearn.model_selection import train_test_split\n",
    "\n",
    "df_dtypes = {\n",
    "    'category': 'str',\n",
    "    'title': 'str',\n",
    "    'body': 'str',\n",
    "    'amenities': 'str',\n",
    "    'currency': 'str',\n",
    "    'fee': 'str',\n",
    "    'has_photo': 'str',\n",
    "    'pets_allowed': 'str',\n",
    "    'price_display': 'str',\n",
    "    'price_type': 'str',\n",
    "    'address': 'str',\n",
    "    'cityname': 'str',\n",
    "    'state': 'str',\n",
    "    'source': 'str'\n",
    "}\n",
    "df = pd.read_csv(\"./properties_us.csv\", sep=';', encoding='ISO-8859-1', dtype=df_dtypes)\n",
    "train_set, test_set = train_test_split(df, test_size=.2, random_state=42)\n",
    "print(df.dtypes)"
   ]
  },
  {
   "cell_type": "markdown",
   "metadata": {},
   "source": [
    "Lot of redundant features. 'body' contains text-description of property, 'currency' is predominately USD, 'fee' is >99% no and i don't even know what it means, 'source' is whatever web-platform the data was scraped from. Additionally i'll want to convert whatever string features into numerical ones."
   ]
  },
  {
   "cell_type": "code",
   "execution_count": 39,
   "metadata": {},
   "outputs": [],
   "source": [
    "df_clean = df.drop(['body', 'currency', 'fee', 'price_display', 'source'], axis=1)\n",
    "\n",
    "def PetCount (x):\n",
    "    i = 0\n",
    "    if isinstance(x, str):\n",
    "        i+=1+ x.count(',')\n",
    "    return i\n",
    "\n",
    "# Has photo Yes=1, No=0\n",
    "df_clean['has_photo'] = (df_clean['has_photo'] != 'No').astype(int)\n",
    "# Count num of pettypes allowed\n",
    "df_clean['pets_allowed'] = df_clean['pets_allowed'].replace({pd.NaT: 0, None: 0})\n",
    "df_clean['pets_allowed'] = df_clean['pets_allowed'].apply(lambda x: PetCount(x))\n",
    "# Don't like imperial units\n",
    "df_clean['square_meters'] = (df_clean['square_feet'] * 0.09290304).round(0)\n",
    "df_clean = df_clean.drop('square_feet', axis=1)\n",
    "# Drop the 4 records that are not monthly payment\n",
    "df_clean = df_clean[df_clean['price_type'] == 'Monthly']\n",
    "df_clean = df_clean.drop('price_type', axis=1)\n",
    "df_clean['amenities'] = df_clean['amenities'].replace({np.nan: None})\n"
   ]
  }
 ],
 "metadata": {
  "kernelspec": {
   "display_name": "Python 3",
   "language": "python",
   "name": "python3"
  },
  "language_info": {
   "codemirror_mode": {
    "name": "ipython",
    "version": 3
   },
   "file_extension": ".py",
   "mimetype": "text/x-python",
   "name": "python",
   "nbconvert_exporter": "python",
   "pygments_lexer": "ipython3",
   "version": "3.11.1"
  }
 },
 "nbformat": 4,
 "nbformat_minor": 2
}
